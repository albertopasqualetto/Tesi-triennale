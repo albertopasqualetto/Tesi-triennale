{
 "cells": [
  {
   "cell_type": "markdown",
   "source": [
    "# Compare audio files with acoustid (chromaprint) fingerprinting"
   ],
   "metadata": {
    "collapsed": false
   }
  },
  {
   "cell_type": "code",
   "execution_count": 1,
   "outputs": [],
   "source": [
    "import subprocess\n",
    "import acoustid"
   ],
   "metadata": {
    "collapsed": false,
    "ExecuteTime": {
     "end_time": "2023-09-16T21:11:20.948841Z",
     "start_time": "2023-09-16T21:11:20.865059800Z"
    }
   }
  },
  {
   "cell_type": "code",
   "execution_count": 2,
   "metadata": {
    "collapsed": true,
    "ExecuteTime": {
     "end_time": "2023-09-16T21:11:20.958027100Z",
     "start_time": "2023-09-16T21:11:20.953501100Z"
    }
   },
   "outputs": [],
   "source": [
    "WORKING_DIR = \"C:/Users/alber/Desktop/\"\n",
    "origin_audio_path = WORKING_DIR + \"Tesi triennale/data/PreservationMasterFiles/BERIO052/PreservationAudioFile.wav\"\n",
    "origin_video_path = WORKING_DIR + \"Tesi triennale/data/PreservationMasterFiles/BERIO052/PreservationAudioVisualFile.mov\"\n",
    "extracted_audio_path = WORKING_DIR+'audio_estratto.wav'\n",
    "different_audio_path = WORKING_DIR+'audio_diverso.wav'\n",
    "mp3_extracted_audio_path = WORKING_DIR+'audio_estratto.mp3'"
   ]
  },
  {
   "cell_type": "markdown",
   "source": [
    "## Create audio files and fingerprints"
   ],
   "metadata": {
    "collapsed": false
   }
  },
  {
   "cell_type": "code",
   "execution_count": 3,
   "outputs": [
    {
     "data": {
      "text/plain": "(1344.992,\n b'AQADtEmSREwSRZFwHMCBAzcOHDgOAAc-HDiRA8dxIscfqPnRP7iOC9qJJpmE2Fke3GiTwxWPM8iPHz3U4SnzQA9qEaJRkfIhH3cuonmgpdLw5BCaoxqJ_zj7IEd_mMGvEC8Ok0sRyoT8o7miI4erHJcOh-Lxod-P5Ef09MEzPJKHXhaa40ceQaENyxneQ1f04Q_CqEfFzfjG4Me0I8yTBDpJ9AqanNCTD1cKpM9y48eeB0-CpkV__McvI9sO_UNJ5iOCB88F_kHz4T-uLOERKt9xMSm0K_qQPyEOz8rxGddtvOWRFaLYqEGeuygZ8Eaoi8c1OUqhpYle5Gg4psihPWtE1HEcPEcuwmRk3BnyQ-cRMUcT7kGdEg-X4g56hDmhrPFxOsfjKoH_KMOFKzp0ccfhjMejD04diTjOFmG-DzUVCrFW6_iHbx-aUCilrpAeE0_yoE9W6Ng_1MYfQv_hH1-SI99kXMfz48pyNNcRPsqgv7h-5MmW4OqlYduJH5R6PDwuCV9KND2-cEOp8cjx47dRZWl8iCV89IsVfDmeN7gu5D-amAn6YleC6wqaJuGRY4piHc8RSdQzCU2j48fpYcrrcKiVF7ElJFqe8OCzEJc4XDJxHOFzaHGU4Etj5BPRJGE4MNqHnC1-4YWUw-3BdTqa6giXC82HLw9u8fia4JNxiqmCPjuinVD4SuidQ8ePS5OOXEmOvwkepvCT4xSR7yr0HqGmZBj54w-Kp0WtJMffYJZ0JThGh0gWpURESw0ePSnYphPwiMFXVH-I5sd74TvOFPHCo7qOw4d-3PDhAyf84zzMH_qhH_MhWkE-4jr8D0-24cHH4T3yLNCOPKdxpVyCj5pwnLiPRstGoqIi9LoxZWQONryQ5M-EHM_x7Ljg6MJ_nMeP5AsRKehz_EKWHs1DQid73Kil44fPQ2aPePFxHsel47rxA_yIUCqnIGmS4unxSahz4GaK-ySS5ciV40koPD_6rQgTpYccKUdcLQ78Bz8-PMpS-Md3E0_EZ8gTkUQtBlqeJUcs6rjGB38eXJmFK6geIVUYIpk24upx2Ek64exxnfgRm9AzhM_RTCpF9DTebEVeZYfWIJ8P3sYfBtV3NI-OSxLyNEjOwwuH8Q_ufPiT4_jxCGc8TDmD6kfO9MSh_jlyCp9zNKeF58avwl8y5EM9Hj3hE18G1YRduNJwH-e-wIa0bC1-wSf6BOehBzF9_Ep1xFaK57ihq2EknB6LlLxw5IoGfZGOzzl-PHvQMxWYQE925N7x5bh0PMdpwg9-HMfHaMed6KgNx-GR3xCvYB_SHid-Dyeq7Li08ciX47kS6LfwI1KfoQsT3NvwgwoT4R6adXGMMjvGH00zJPM45MGtFK0TNGHQabmCJuIVfMpx_bgc5E0yNNkPbVl4xHeOPcUzUDOuxXjCbFuQx0h2wXGEh4mMSnki_HhwJPlZ5FGIr8fh58GTdfiPKzfKJEWy7DkuiIfCv8K_Y8t3nENIKRlMRbi-FX2GpzPiGzqTI_9E48ou9KEuOByPcMnxG0l-fNrRJzbqB1cevIxRHVP6IM-Q5JICR-Px4TKDO-nwCg6dEVe-IK5Qeh-YPJjJ45IUqwgtaUwwJTrx3Ahz4ovRnKnAhqE6lErGY0p_5Df-KPjhZKFxUjiFhAu9IJd4PAkebG9x8Es5xI8TJFSeJ_g4PMXEE82HOsme4CifEjkactCZBU2Pp-WAnBL6GE0-Cp9DvEksTM8aJNJpBWF-fNnxo6mdo1-KFy9yRko3JGVykAkzXKQz_HjwTcfDI_ySBwl3nL3wPHhDgTryNUuK8xOUTQqDMse_wcm-qbgiUTiD9AxOYs514mQaI3keRMpRMT7GTD-eoHly9AIuIZd2JO8anEF_UJOpHO-IZi9wHWEC7cEPPWcihNmDPjnCjbvhgyH0I7QPJjx-_HgWHDWPZtFyolyKFLVyhPKDF47Cozz45LiL7EkO7cadEqkiHdWSBw-u4_nRPOgZPDtxRELCXDuc7BT6aSVK9vAi5egFNJ9RBT-uEfmO5tCOK9B3aEl4VNKDe4X2w8eTYDKfI_zho8p-XIf59DgfI9GRB09-nMGTPyAPHxdCPUgWbTM-ECcaKQ9wZyr-Iy_0HqGNWzKaGz1FXNTQFz9ULsrBHvsOfIwPj8STG5fRH8mP_MEVnFGU6nh0J8OFHz_64ces7ELCpVGQ5Tj-Cc-eEGySF82gffhx4ZnQLJFQLtmCv3g-RciF5OCO-wej7eASTRx-TDkD_DguN0KTO2iUpyglBU15_Cl-1DbxBztC6MhKXXgSJY2EppqOnIKmI07049IOJpOYFPUj7EbyI88zbJUSKgmuFL4xZ1mEk9ImPHhQPcvR_DLyI_GSycePnh8cNOdxyce1C88WJfDxFxf-4MePh0-waylCSuygpUdeKjkuZSky-KIOfU6Q78INPjz6Y2sa48f25MJ8L2h0H2ciccjlID_hC_-EJyr207iFpqNyjMotIU0iXRGSfQ_OwaUiEU9w_UHTnAgZLtAfRcKfhFB0NFWCM7pQXZmCpisNaz-k_XhIQU8QqjmaRdHx6fh4WMmyIxaPR9IgJf9Q6piTpDH0OcaP52hKSagjHU87XG2DRm-EysSD_UQlhsdV4ypeClTFSXgc3PiooYn6rVh7_BdcSXmg5wizkTkAa6W1UlxroQCkJO2AMEAJhCAAJAPnpGQGAC8wIBghK4ADwglGgaWAACGOIMoSAIgTwjGjkTOICIGYAYgBgLAlAgFACWBKAYCcEJAJABICjhCFAFEAAWGYdIYAAIhwwhAjwTCKEwaUYIQQAwxwAACGGBCYCOYQAMAJQYgDghBoGDLAAcQQMoAAQBAjQBAloBACgKIQMIwwyQgwwgoHEEJEOKEsMkQxIgyhggECDMEGPAWQZIQ4ZqBgDhpBiFBACAEU0AIAQBgRCgEAFKAMEAyYAoIxYQgQVghBKDMAGrKMVsJZYIwwChHgDbAKEeSYokoQgjAFyhAAjJGWMYaUEYgDBgUhgkEjhCZICwKEQ8hIAqwzDCDKDNDGIUaAEAQJZohBABBgEFBKAGAAQYQA0QQRlghgBQFAMMCMEIAgA4wBQgAhKBKEMKOAoQAIARRgwgDAhADICAQAF8oYBAQATJgBADRACAEkA0IBAQwkhhmGnCTsCCCEFEIRp5ARgAhijCLAAIAMNcJ5AowCyBAohGJGOIKQwgI4xrgQhgFgAAPGICQUt0YIIICgBAigACEACSAIAcgIKIwCkEilBBQIKIEQVcYARh0gADDEDDOACoEYoAIIAKiQAAkCCFIWCGCAA4YpBginRgEoECLMCCCNEQJJxAQCCigEGBAECSgAYcYZQoQhhAgDoBMOAOCIAUhgKAgHjoppiBGQAoEQMQAyERwgDgjEEFAKCMMIAIQY0pAwilGhkBMAIAQY0EAQQz4yhBAAKGmGEQcIAAoooAQhQhAJjAGKIKYQYI4BIACwihmCiEINIKCc94BEBADSUhEhFKSAeLKMEA4pBpAjAwEliDLKSYORgJR4coAgxgnDiACMAKUMNAYC4wCzBhCIAAFCKUAIEQZRAAACQDBCEJAKUAEEYAwkAyAQjjCFBABAaaQEMcIYxIiBihlKIAGEESIEcIgYYIARAiED')"
     },
     "execution_count": 3,
     "metadata": {},
     "output_type": "execute_result"
    }
   ],
   "source": [
    "origin_audio_fingerprint = acoustid.fingerprint_file(origin_audio_path)\n",
    "origin_audio_fingerprint"
   ],
   "metadata": {
    "collapsed": false,
    "ExecuteTime": {
     "end_time": "2023-09-16T21:11:21.727956300Z",
     "start_time": "2023-09-16T21:11:20.954007200Z"
    }
   }
  },
  {
   "cell_type": "code",
   "execution_count": 4,
   "outputs": [
    {
     "data": {
      "text/plain": "(1342.4,\n b'AQADtEmSREySJIqED8fxIzh-IBfx4Pmh_uiP6_gSaEGVKdkRm8dftDpcZceD_HhQHbKOm4fOQzOcQtsok_iP54S_B2KlGXoA_7jDQ80vSO_RIz_uHB_R_LiKhtKMyke-XIMWRtoR-DluggoTfEe_B7keJE-DJ_nwKOgvNH3wJDhip7DG4clyIb-Qo1Fz1AlT0Md5UJUS6MFOGs0TaM5J7MpxGzn88MYvPMqHw3QH_riXbEfuYXQuKLoe4z9y_OCTK3B99Aqe63jC5EWYfDS0VGHwTI-E_EHJBQ274zROx8Z_ZInyFdp95LkLhszxIdSTQqOiXEFTvQhztDvyHJqtRRnq-Mgf9NmJhlOOU0SekUi-jMHao6nyoVTCFF-GO2gu5Iei-MSzD3e6ZPAjfMGfEzqVBz9hibhkaYPdlLhxHmm1D9-oIFZ_fHimfHCNS1lWSC8exUKfDGKPzUcpG88eClrQJ9pxjS3ybA9-POkcVBuaJzryRtB7XFURn1OGKuoxZScqH0z04s1xDW1OeF_whai3HDnu48rdockEnfCDnunwKR-eJ0XOo_rRnAn24FcSPD3CdMthTEuq43qJaE2eCt_x4_SxPXQWXEfSVIifaMepFX90PNLxHD2Reju0L8iV2PgXElZyZNs7nGnwQ3tBPeDI5LD1oJuOkBca7gleXNnxTcGTKBVO0UO_I9oJha-E3jl0HW8QS5OOay_-UOhDD00efEcuXYa-DJHUhMb5D-XxFhUlfMeuJ7gkWcIzxC60KF2I-Dk-LknBMjkefGFQu3C4Z0UvvPh63FoRNrvxwzx-6MbhnDBwwjxOQvxw6D8Ub_CRj4cjPM6HT8bxcXiP8FmQ_Pgl4wsjJnguHCdx6rAWZcQ9NN-NJcyOuZehP8N1HM-OWmiiU_hznMfnIvlTRMqTo7-Qgwl99CR0Ujtq6bgOvydkH1cR0ydOPPjE48ePg_mOpEm4FLGo43XwSDpqHD9TIV18Cdof5Al3XAz-w98YxFGRlMpx0Ql84Qt-tFHRvPhuPBGfDHmi7HB16JEQ67jGOLhkK7hinBp6CsmSpEQ-4urxwFY6_M2I57gvxNSh8wi53GiqGr1E4WGkI-eRrDlYxTjd4I7QxFKOXngiJUhuhGRmNMsxPrLw_LiO4zKuxOjNYLsRqumHH_p4XD7yDT-a58I9EX8GPwpCG-fREz7xZRDTECdcDveDcw8khTnuw_mFo32CQ6WO_BXi53hi_PgN_YyEUFTMouEu5Bn0JEEpMUf34w_OwuCha0dO7cST4cefoQ-aHP9x_BbOCHeio3bgODvyG-IlRCtx4_g9fBm6aBNiLT9-6LwS3MKP6FWGh-lwD4yYGU11dM_RKOEe4zxG8kgdKYOuzMgf_AkaxkE1oZGvoNIVPFN-_HiyBSEbocmiQk2UGnmaYz7aJWAyBg-TKcaVaCeS6wjzBHd0VAkTSXge_HiOvEjyHF94fEV1NOeDR-lwXviSI11y6IeO7Yf6F01y5cH0HUeYacTl4xI5VA7-DbF4JGdUCZ9fnEfVUIeZMQiVQN8QXdPw47JxPbgyJsfVoXkw-UjyITQVNEkUHs_xMSw-9E3QhCaDR1E-5BG81wOPmfxwSUojRMokaQ2qnMQvhPk--AJD8vgSqmg2ssT0I7_wR0ETowoX48hJISEXL_h2PEHzYHrB-3iWJkIoNS6SJfmFc_gzYQrqL6iT7EFf_EcOkSSaMUZ9PP2AnJLQ5J_RvTh5PFGFSLnIJEikH-WPZ9nxHq7aOHjm4yEuFkkZSuWQRxIYjSxK8sN5PCku5viHZE8epDuqsUeVPHAbJuBN5GfCQM-ObYkalEeVT0ETfkxxRSJqBmHO4JSM_XmQ04GeB9HqjBjbNcOz4fB1HBdOJKcb5N1x1MpB7ZmO92j24sKRBnoO_cNPBWF-dNYRmrvB5NDxI7QPJstx_AtO4XzQmEfYKif6EE2F50Gow0lztMcf8Dl4h0WeQLsoOEmP0PrwJQ-O66jyo3mIi3h2Akn0aEiTnnBoC-WiyWh5eBt6AU0-owqOXAqLFj60F9-hVYEWRcfxFdoPP0If7HyO8IcnB12O8kfD0XGQH9KNXA-u44lw_eACXweSJS_CbcJBdJEO8_hxLyKOPDyS8biOX0FzqqiPNxq6D3mGRJHkC9Px4_gP77h63EcfIfmRJ8eV4EzC6nh0J8OF9_jRD3uOPGGiI-GsgDl-_AWX5UmGJ0e6Izk-4sdTmFEiPHnwZyH-IPmEGDzBML3xRDq464c_TCeO43rQT8P1NOgmCeWPpsT1pKifCA9-7AiR6Dr-BHWkpIrgNgnCQz3iRD-eREsN6hQT_BGiH_qPPHoUbGWSLbgN_8NObrgXCniXofpoND-SZzvySMqP50X1Dz6a-8SV4M4utJ_Q8MRxBT_x4D-u6Al2hQgzftD8IRen5LiE7PBlidCzI_8FXsdZNNWxN9iqG2dybJ-JKpOPT9mQS5mRHy6FV9inxfjR0_CkLAoljEkeJAwla0P4_Kido7kmPA2eHGl9nBT0TEmgzyqmfEEtHaeiowmXFz0oTX2gOj9eQ1eOMDnK7Hj6oIuWo-F4xGI8SJ_gf7hyB3OiFvpu_EQ_NJUyPEl6PHvwhCnR5OhxBbOSE9V5XDWulqCe42kk4SROFn-PJuqNtReq70FT5YKeEWEmWsfEPMSp7DjzgePRH9FzSngOcSKFrQnuqEKVx_AzZtB1XNmPK0PQHH2Gi0wlPLsAKACCJAEKATBIKIGQAgQRAaxzUAxAEAAEMAQIAQgAQAAziiEggkEKCQAMsoYAowgTThiHmAEKiQKEUsYSYQABADFkGENAACIMEcgzBIwwhCAgDBIKOQIUAQIIIowVQimjDCBKAECUMsAQYIAEADhEgCAAKOCQAYoQDwhBTEhLjADIAGYAQgISYoSgBEAiEGEcGAGIFUggI4xxADOBBGGAGIQoYQQgAwwjCBDDiADCAICEI04Ih5QiBBKhABECKICAAEYQAZDAwggAjBbSEEMYEMwYQqQgCiBAuDMWAMcNdgQwYYhBBDmmGBCGEEYwBQwQoQAylFnGhAGIAycAIEIAooRACAFijHCGKMSsowQYhxAjBhBkBGIGAKIoccQCAggSVlkBFBCEAFGEBUgoQYkQwgHNKCCIOACEgYIiIxASWhEACPCAMAOAEwIgZgQyQBhkHBAJGCEZI8oJIRwBhADpkAICEGYcUQYASQxjQBAphLMKAUEQEgAEAwQwRABiHHGCAOAQAMxAKQRCABkLAAGOMeAFQIQRABxwhAJMuBVGAEAAN4gIoQQCTBhpJITIAACoQtAooAEQiGhlEHACUGUYY4QZqpBAgAGEDDBEIMCIMAQhogAwACiABAKEKcEAhwAgoZBxCAGtBEICIYWAAgwApZAA0DhImBACHEEMABAmoIQBRBiAgMFQuIAoElAARiSEyAkBnCAKMBEccQAhJhxiwgkyEHEUDCWQEAAgT5Bw2BhlCSACSMSUdAYQJQQyQABFBBPCMHEEc8ogphBUjgEgAGDKESWgMKgJgBDRnHwsIAIACSmhAQAAQgQsCkEgAFBGUaAcUcQJQRQByBGAhEGAAgAYRYIQAIQgAigEAEECIA2BYUgJAwRRCBAIEBAAEOUQIYQApoRy0kEjGABCEJGcM1AJqBBxAAhtjDDCKECIIUABZhhCxAAokABCAIAQIoYIYIRARgAABFGCGUEgkIIoAgxzAgAG')"
     },
     "execution_count": 4,
     "metadata": {},
     "output_type": "execute_result"
    }
   ],
   "source": [
    "proc = subprocess.run([\"ffmpeg\", \"-y\", \"-i\", origin_video_path, \"-vn\", \"-c:a\", \"copy\", extracted_audio_path], capture_output=True)\n",
    "# print(proc.stderr.decode(\"utf-8\"))\n",
    "extracted_audio_fingerprint = acoustid.fingerprint_file(extracted_audio_path)\n",
    "extracted_audio_fingerprint"
   ],
   "metadata": {
    "collapsed": false,
    "ExecuteTime": {
     "end_time": "2023-09-16T21:11:23.964326Z",
     "start_time": "2023-09-16T21:11:21.719443100Z"
    }
   }
  },
  {
   "cell_type": "code",
   "execution_count": 5,
   "outputs": [
    {
     "data": {
      "text/plain": "(1232.9331666666667,\n b'AQADtIkUKZEURUmE4vAlDMdx48DhBweIAwfg4weOw8DxHSd-4IV5_DiOPzgP3_iBXzh-HOaPHg_g4zgKGC98HPgAH8dhHfjh4_jx4w184Djx4jiO4zAO_PDx4zC-F_1xo_DR40ePA8AP4ABg_Dh-HMaPHwe0HyFuND_-EEdPHSl-EvpRWRLOfPiLPkK6LLOInsHh6E7xMEnwo38QRkby4MZzPMOP7miWHWeWBo9xhHmRjL2O5_iM5iiDd5bRH9aDZN-R4-SHD-2PBzkh6jLyFD3-Yx965PCh4zjyPyi-4zmaJUf_GA-mz0cObchDPA8u9Dueh8O7NEGOH-mVFP3xH42Op0eD4zPaD-kPC0c_HD-04wfSW_jRDkcP7_jR_MiJ5Lzw4_jRU2i-IxehH2FuXLgIz-iPBGGuoySPhw-6Hs0T5TiPo-zhx0egIz3OAsfhH99bHId_PDgS5keV_MhT_GhO48GP50NlHsmWH3l43MfZ4ToO60d1JBfy44xu_PjRPOijTDiL38gJ_QgfeEyNdkdpNcJP5Dn-4j_K3IPOPAi_o1mJD81Ooq9zXOFxPkh2pB96JfhxIT-SddlxDn7x4yxKfzgn_AgPKcGfIFyO3zh-UMgP_Uhl_PCL_ni4IBmPMH_w4zf6KEPz4-iJ50KuQz9-HBAvvMiPAz-OB0fiICVRHsfRH-l-APmB4w98_GipI_mKcA989Hg69Irxo2tyIHl6pF-CXDku6fjRM4f4B_nANjSO8MG1B82P8ETTC8ySB_mP5IJPXMeD_gObKsd_HG9YNGeOB8mPPD-erEF2QU9GPCNRPhAvhMeLG-fxHuVJHN9iyOh3PNzxo2he_ECyxwhzPGiOG79RtiVehEdyNCeOv-gCfD0ueCd8JD-RorqKo-wHH8ADX_CD_IAO_C7wAz_8HMmF_xKuEdVb_MeDI-SPZFET3BfOJhSeVBT-FLeI3mh6C_-R54cmNUecJ-iZ4XeEH81RsscZ9XhwL8R9hJ-R8ErQo4c_47Tgnejxo9-EwJyqwToO_cgV4viHSq-MF7-DHk2u4BmFlz_0hBOuF8909Ljhh-iFP9DxHOV1fKRx4A7Eoz-eHz_QyDz6C8f_oD-aC0fhHymS44f_o0f3I1-OhOMP6xr81vjR48eJXkdTIvmFrE-IRxfKo_nx4z2eHz6OKz9-9IEn8MWdA98PHydMvPjh_PhxHP6h-cePJ7rxlsR3VDd85viFIjv-HzmaoyeyI_mP5jtKHj-eHz2NhM-DPEf54xll_MrR_OhDAvkNTerhx9AH6Dt-pPlxHMeP47hhISSS3_iOHz96Ec2e47iHG8l-hMlu4Efz4sXlwQ_kHO3xRjiPdj-alQ9OPDiFw5dwD8_R_2gu-ci9NFAP5Dh-9PCK-BZ-6AAO4MdxA4dvQD_eIAc89oA__IT_oy--HL-KHD80HikvvMWLF76OrsV_NHGO8IWOoMcv5CeO7w6i4_jxIwc0HmF4lCfW40dzhCyeQ8vxIxz-4zl-_Cj_wB8qhRd6iJdQHs_Rw7eC7srx4EZOaEf6UShz_JGK50EfI1VICn8OHemuA_4TnMXJariPXjlCQj--AuJh-fhxHD8OXRv64TnxB7rQ_EGZBRr548QRXsh_6FOQ68Jf1OLhlfiuCl4j48iDZMkX4CkezkGzo89x3EFehOyOH80VHL3QPMaRLHsQPjiaPRx6MWjIHX1woeFTGSF_6OjhhwtClEf6wtdw4sBxIX9w9vjh9_jxHz2-Y_WRG8kYo3_wo7C8FD0VJEfk7GhmdHiMe4kW5CQJjeHhH_7xp8Vh_DLCP0ThPXh8mA-647vQG80e4-iDRl6M_NDzIB9-9GiE-Dke6A9CWsfnCP4Px0cOXfC4C-2FP8eHZDvhN6iUHz-OPmieHrGXQ8gZnEYO7Xhw4jAAHDh-CMeJHD5-_BGBAyTEtSYrZx6zglwygXEIC0nMk8IRhoGBTgoyBBHLkaelWCIb44w1UkgGmWPMSfO4gVYSZwQDFhAmPHPIXIEGtZIYSZIgSxDEmBCCCyIMsgIMAo1QnFJGiASKSBQIIM4pQgwhAhIAmmBCKEsAAcJbbskQAhEhgBKiCAUZ4UQQQRSzQgFmiGCKOAGQFeRI7BAQxgklkAVCEGlABYo4CYkCAxGABCEGAAZNQQBZh4ZQQBAzqJXICCIgAVRCRoATihhCmLAMUS6MIUQCQgkTVEqhhCWKCAaABcAIYIwAQBEkBGEIDCqIYgoKQ6SSwFkhDWMGEIYVMkQSwQwVBDAiGICCCqbEcQQKDIh4hExkCCHSSsEcIVxSQSxTBClgGCGGCSCIdwoBYIiDAgImoAAJACIgFYAxIAUgjiLiKGeCMCOEtwIRQqACQ2FhrCHmciEmAEIcohgRBTCqGHICGESgMA4AwBwRAoTigACCSKCABEIAIaAgAikCCDIEIELMFs4wxoy0AFDIDGFECMEEEA4oYjBVxhkuiQOAWM0AAYA4goApAiBohCFeGmCEMYIQBRBwVAoCiVMEGiEUo0oQJgwBCBimFAFEAAKAKRAg6wQABgBKiCJMGMAc8UQIYC3hQEABjPGCAAEIFEQQB4AgAiBhJCLGIUKGeYiIK6AjBAqqBDBUICKYAwZg6QlBRgASqgWGKSEEEIC8Bg03liCSARpYCYkdI8wIQgQTzjCooCPWBOMIMYwVIiDAQBhihTPiCUMoUMQpRwCBhFFBoCCEGCEIwwgAQiQDgDBnFAAUEmGAY0AQoxTExghSoJCIEkAcVwAgagUThighGACCRECJUI4YSogg5iAQFCVKKAcE4EpBJRwYojjCmDMICgeMdYAIgqBRSjEgiCAIACMkIERIwgyASgAkJICMCUYAQQpAAZABXDACoEMKCELJRcIIJoZ5pDxhsQEbIEAJ')"
     },
     "execution_count": 5,
     "metadata": {},
     "output_type": "execute_result"
    }
   ],
   "source": [
    "different_audio_fingerprint = acoustid.fingerprint_file(different_audio_path)\n",
    "different_audio_fingerprint"
   ],
   "metadata": {
    "collapsed": false,
    "ExecuteTime": {
     "end_time": "2023-09-16T21:11:24.390032700Z",
     "start_time": "2023-09-16T21:11:23.959819Z"
    }
   }
  },
  {
   "cell_type": "markdown",
   "source": [
    "## Compare fingerprints"
   ],
   "metadata": {
    "collapsed": false
   }
  },
  {
   "cell_type": "markdown",
   "source": [
    "Compare file with itself"
   ],
   "metadata": {
    "collapsed": false
   }
  },
  {
   "cell_type": "code",
   "execution_count": 6,
   "outputs": [
    {
     "name": "stdout",
     "output_type": "stream",
     "text": [
      "1.0\n"
     ]
    }
   ],
   "source": [
    "print(acoustid.compare_fingerprints(origin_audio_fingerprint, origin_audio_fingerprint))"
   ],
   "metadata": {
    "collapsed": false,
    "ExecuteTime": {
     "end_time": "2023-09-16T21:11:24.484663400Z",
     "start_time": "2023-09-16T21:11:24.382025100Z"
    }
   }
  },
  {
   "cell_type": "markdown",
   "source": [
    "Compare audio from PreservationAudioFile with audio extracted from video PreservationAudioVisualFile (synced)"
   ],
   "metadata": {
    "collapsed": false
   }
  },
  {
   "cell_type": "code",
   "execution_count": 7,
   "outputs": [
    {
     "name": "stdout",
     "output_type": "stream",
     "text": [
      "0.7035864978902954\n"
     ]
    }
   ],
   "source": [
    "print(acoustid.compare_fingerprints(origin_audio_fingerprint, extracted_audio_fingerprint))"
   ],
   "metadata": {
    "collapsed": false,
    "ExecuteTime": {
     "end_time": "2023-09-16T21:11:24.578885100Z",
     "start_time": "2023-09-16T21:11:24.472047100Z"
    }
   }
  },
  {
   "cell_type": "markdown",
   "source": [
    "Compare two different audio files"
   ],
   "metadata": {
    "collapsed": false
   }
  },
  {
   "cell_type": "code",
   "execution_count": 8,
   "outputs": [
    {
     "name": "stdout",
     "output_type": "stream",
     "text": [
      "0.0\n"
     ]
    }
   ],
   "source": [
    "print(acoustid.compare_fingerprints(origin_audio_fingerprint, different_audio_fingerprint))"
   ],
   "metadata": {
    "collapsed": false,
    "ExecuteTime": {
     "end_time": "2023-09-16T21:11:24.658631Z",
     "start_time": "2023-09-16T21:11:24.568876800Z"
    }
   }
  }
 ],
 "metadata": {
  "kernelspec": {
   "display_name": "Python 3",
   "language": "python",
   "name": "python3"
  },
  "language_info": {
   "codemirror_mode": {
    "name": "ipython",
    "version": 2
   },
   "file_extension": ".py",
   "mimetype": "text/x-python",
   "name": "python",
   "nbconvert_exporter": "python",
   "pygments_lexer": "ipython2",
   "version": "2.7.6"
  }
 },
 "nbformat": 4,
 "nbformat_minor": 0
}
