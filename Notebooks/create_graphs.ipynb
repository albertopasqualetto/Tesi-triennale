{
 "cells": [
  {
   "cell_type": "markdown",
   "source": [
    "# Create graphs from packager and audio analyser execution times"
   ],
   "metadata": {
    "collapsed": false
   }
  },
  {
   "cell_type": "markdown",
   "source": [
    "This document is used to create graphs from the execution times of the packager and the audio analyser, thay have been collected during the execution of the tests both enabling (`-n auto` pytest-xdist option) and disabling parallelization.\n",
    "\"setup\" is the stage where the AIM is run, \"execution\" is the stage where the tests are ran, \"teardown\" is the stage where setup and execution files are deleted.\n",
    "Parallelization only affects execution time.\n",
    "Tests are run on 2 tapes' files.\n",
    "Time is measured in seconds.\n",
    "\n",
    "My machine is a laptop with an Intel Core i7-1165G7 CPU, 16 GB of RAM DDR4 at 3200 Mhz and Windows 11."
   ],
   "metadata": {
    "collapsed": false
   }
  },
  {
   "cell_type": "code",
   "execution_count": 1,
   "outputs": [],
   "source": [
    "import json\n",
    "import matplotlib.pyplot as plt\n",
    "import numpy as np"
   ],
   "metadata": {
    "collapsed": false,
    "ExecuteTime": {
     "end_time": "2023-09-25T16:29:53.396285800Z",
     "start_time": "2023-09-25T16:29:52.835252500Z"
    }
   }
  },
  {
   "cell_type": "code",
   "execution_count": 2,
   "outputs": [],
   "source": [
    "WORKING_DIR = \"C:/Users/alber/Desktop/Tesi triennale/Tesi/Notebooks/res/\"\n",
    "pkg_timings_path = WORKING_DIR + \"pkg_timings.json\"\n",
    "aa_timings_path = WORKING_DIR + \"aa_timings.json\""
   ],
   "metadata": {
    "collapsed": false,
    "ExecuteTime": {
     "end_time": "2023-09-25T16:29:53.413439400Z",
     "start_time": "2023-09-25T16:29:53.396285800Z"
    }
   }
  },
  {
   "cell_type": "code",
   "execution_count": 3,
   "outputs": [],
   "source": [
    "with open(pkg_timings_path, \"r\") as f:\n",
    "    pkg_timings = json.load(f)\n",
    "with open(aa_timings_path, \"r\") as f:\n",
    "    aa_timings = json.load(f)"
   ],
   "metadata": {
    "collapsed": false,
    "ExecuteTime": {
     "end_time": "2023-09-25T16:29:53.413439400Z",
     "start_time": "2023-09-25T16:29:53.402449100Z"
    }
   }
  },
  {
   "cell_type": "code",
   "execution_count": 4,
   "outputs": [],
   "source": [
    "def get_time_list(stage, timings_json, mode=None):\n",
    "    if not mode:\n",
    "        return [time[stage] for time in timings_json]\n",
    "    else:\n",
    "        is_parallel = True if mode == \"parallel\" else False\n",
    "        return [time[stage] for time in timings_json if time[\"is_parallel\"] == is_parallel]\n",
    "\n",
    "def get_avg_time(stage, timings_json, mode=None):\n",
    "    time_list = get_time_list(stage, timings_json, mode)\n",
    "    return sum(time_list) / len(time_list)"
   ],
   "metadata": {
    "collapsed": false,
    "ExecuteTime": {
     "end_time": "2023-09-25T16:29:53.434328800Z",
     "start_time": "2023-09-25T16:29:53.407674100Z"
    }
   }
  },
  {
   "cell_type": "markdown",
   "source": [
    "## Packager"
   ],
   "metadata": {
    "collapsed": false
   }
  },
  {
   "cell_type": "markdown",
   "source": [
    "### Average times"
   ],
   "metadata": {
    "collapsed": false
   }
  },
  {
   "cell_type": "code",
   "execution_count": 5,
   "outputs": [
    {
     "name": "stdout",
     "output_type": "stream",
     "text": [
      "Packager average setup time: 75.18850028514862\n",
      "Packager average execution time: 96.91573510169982\n",
      "Packager average teardown time: 0.05890190601348877\n",
      "Packager average total time: 172.16313729286193\n"
     ]
    }
   ],
   "source": [
    "packager_avg_setup_times = get_avg_time(\"setup\", pkg_timings)\n",
    "packager_avg_execution_times = get_avg_time(\"execution\", pkg_timings)\n",
    "packager_avg_teardown_times = get_avg_time(\"teardown\", pkg_timings)\n",
    "print(\"Packager average setup time: \" + str(packager_avg_setup_times))\n",
    "print(\"Packager average execution time: \" + str(packager_avg_execution_times))\n",
    "print(\"Packager average teardown time: \" + str(packager_avg_teardown_times))\n",
    "print(\"Packager average total time: \" + str(packager_avg_setup_times + packager_avg_execution_times + packager_avg_teardown_times))"
   ],
   "metadata": {
    "collapsed": false,
    "ExecuteTime": {
     "end_time": "2023-09-25T16:29:53.440610600Z",
     "start_time": "2023-09-25T16:29:53.423655400Z"
    }
   }
  },
  {
   "cell_type": "code",
   "execution_count": 6,
   "outputs": [
    {
     "name": "stdout",
     "output_type": "stream",
     "text": [
      "Packager average setup time without parallelization: 77.08214983940124\n",
      "Packager average execution time without parallelization: 103.35862598419189\n",
      "Packager average teardown time without parallelization: 0.08742547035217285\n",
      "Packager average total time without parallelization: 180.5282012939453\n"
     ]
    }
   ],
   "source": [
    "packager_avg_setup_times_sequential = get_avg_time(\"setup\", pkg_timings, \"sequential\")\n",
    "packager_avg_execution_times_sequential = get_avg_time(\"execution\", pkg_timings, \"sequential\")\n",
    "packager_avg_teardown_times_sequential = get_avg_time(\"teardown\", pkg_timings, \"sequential\")\n",
    "print(\"Packager average setup time without parallelization: \" + str(packager_avg_setup_times_sequential))\n",
    "print(\"Packager average execution time without parallelization: \" + str(packager_avg_execution_times_sequential))\n",
    "print(\"Packager average teardown time without parallelization: \" + str(packager_avg_teardown_times_sequential))\n",
    "print(\"Packager average total time without parallelization: \" + str(packager_avg_setup_times_sequential + packager_avg_execution_times_sequential + packager_avg_teardown_times_sequential))"
   ],
   "metadata": {
    "collapsed": false,
    "ExecuteTime": {
     "end_time": "2023-09-25T16:29:53.440610600Z",
     "start_time": "2023-09-25T16:29:53.434328800Z"
    }
   }
  },
  {
   "cell_type": "code",
   "execution_count": 7,
   "outputs": [
    {
     "name": "stdout",
     "output_type": "stream",
     "text": [
      "Packager average setup time with parallelization: 73.294850730896\n",
      "Packager average execution time with parallelization: 90.47284421920776\n",
      "Packager average teardown time with parallelization: 0.030378341674804688\n",
      "Packager average total time with parallelization: 163.79807329177856\n"
     ]
    }
   ],
   "source": [
    "packager_avg_setup_times_parallel = get_avg_time(\"setup\", pkg_timings, \"parallel\")\n",
    "packager_avg_execution_times_parallel = get_avg_time(\"execution\", pkg_timings, \"parallel\")\n",
    "packager_avg_teardown_times_parallel = get_avg_time(\"teardown\", pkg_timings, \"parallel\")\n",
    "print(\"Packager average setup time with parallelization: \" + str(packager_avg_setup_times_parallel))\n",
    "print(\"Packager average execution time with parallelization: \" + str(packager_avg_execution_times_parallel))\n",
    "print(\"Packager average teardown time with parallelization: \" + str(packager_avg_teardown_times_parallel))\n",
    "print(\"Packager average total time with parallelization: \" + str(packager_avg_setup_times_parallel + packager_avg_execution_times_parallel + packager_avg_teardown_times_parallel))"
   ],
   "metadata": {
    "collapsed": false,
    "ExecuteTime": {
     "end_time": "2023-09-25T16:29:53.456345300Z",
     "start_time": "2023-09-25T16:29:53.440610600Z"
    }
   }
  },
  {
   "cell_type": "markdown",
   "source": [
    "### Graph of average times, sequential vs parallel, split by stage"
   ],
   "metadata": {
    "collapsed": false
   }
  },
  {
   "cell_type": "code",
   "execution_count": 8,
   "outputs": [
    {
     "data": {
      "text/plain": "<Figure size 640x480 with 1 Axes>",
      "image/png": "[encoded data removed]"
     },
     "metadata": {},
     "output_type": "display_data"
    }
   ],
   "source": [
    "modes = (\n",
    "    \"Sequential\",\n",
    "    \"Parallel\",\n",
    ")\n",
    "stages = {\n",
    "    \"setup\": np.array([packager_avg_setup_times_sequential, packager_avg_setup_times_parallel]),\n",
    "    \"execution\": np.array([packager_avg_execution_times_sequential, packager_avg_execution_times_parallel]),\n",
    "    \"teardown\": np.array([packager_avg_teardown_times_sequential, packager_avg_teardown_times_parallel]),\n",
    "}\n",
    "width = 0.5\n",
    "\n",
    "fig, ax = plt.subplots()\n",
    "bottom = np.zeros(2)\n",
    "\n",
    "for stage_name, stage_times in stages.items():\n",
    "    p = ax.bar(modes, stage_times, width, label=stage_name, bottom=bottom)\n",
    "    bottom += stage_times\n",
    "\n",
    "ax.set(ylabel=\"Time (s)\")\n",
    "\n",
    "ax.legend(loc=\"upper right\")\n",
    "\n",
    "plt.show()"
   ],
   "metadata": {
    "collapsed": false,
    "ExecuteTime": {
     "end_time": "2023-09-25T16:29:53.587599500Z",
     "start_time": "2023-09-25T16:29:53.446991Z"
    }
   }
  },
  {
   "cell_type": "markdown",
   "source": [
    "Setup is a very relevant part of the used time, sequential execution seems faster than parallel execution, but the difference is not relevant."
   ],
   "metadata": {
    "collapsed": false
   }
  },
  {
   "cell_type": "markdown",
   "source": [
    "### Scatter plot of execution times, sequential vs parallel"
   ],
   "metadata": {
    "collapsed": false
   }
  },
  {
   "cell_type": "code",
   "execution_count": 9,
   "outputs": [
    {
     "data": {
      "text/plain": "<Figure size 640x480 with 1 Axes>",
      "image/png": "[encoded data removed]"
     },
     "metadata": {},
     "output_type": "display_data"
    }
   ],
   "source": [
    "fig, ax = plt.subplots()\n",
    "\n",
    "time_list_sequential = get_time_list(\"execution\", pkg_timings, \"sequential\")\n",
    "executions_sequential = np.arange(1, len(time_list_sequential) + 1)\n",
    "ax.scatter(executions_sequential, time_list_sequential, c='lightblue', label=\"without parallelization\")\n",
    "\n",
    "\n",
    "time_list_parallel = get_time_list(\"execution\", pkg_timings, \"parallel\")\n",
    "executions_parallel = np.arange(1, len(time_list_parallel) + 1) + max(executions_sequential)\n",
    "ax.scatter(executions_parallel, time_list_parallel, c='green', label=\"with parallelization\")\n",
    "\n",
    "ax.set(xticks=np.arange(1, max(executions_parallel) + 1, 1))\n",
    "ax.legend(loc=\"upper right\")\n",
    "\n",
    "ax.set(xlabel=\"# execution\", ylabel=\"Execution time (s)\")\n",
    "\n",
    "plt.show()"
   ],
   "metadata": {
    "collapsed": false,
    "ExecuteTime": {
     "end_time": "2023-09-25T16:29:53.731888Z",
     "start_time": "2023-09-25T16:29:53.577123700Z"
    }
   }
  },
  {
   "cell_type": "markdown",
   "source": [
    "Parallelization seems to slightly speed up the execution of the packager's conformance tests, but nothing relevant."
   ],
   "metadata": {
    "collapsed": false
   }
  },
  {
   "cell_type": "markdown",
   "source": [
    "## Audio Analyzer"
   ],
   "metadata": {
    "collapsed": false
   }
  },
  {
   "cell_type": "markdown",
   "source": [
    "### Average times"
   ],
   "metadata": {
    "collapsed": false
   }
  },
  {
   "cell_type": "code",
   "execution_count": 10,
   "outputs": [
    {
     "name": "stdout",
     "output_type": "stream",
     "text": [
      "Audio Analyser average setup time: 322.1233165760835\n",
      "Audio Analyser average execution time: 1.3213631411393483\n",
      "Audio Analyser average teardown time: 0.07450194160143535\n",
      "Audio Analyser average total time: 323.51918165882427\n"
     ]
    }
   ],
   "source": [
    "audioanalyser_avg_setup_times = get_avg_time(\"setup\", aa_timings)\n",
    "audioanalyser_avg_execution_times = get_avg_time(\"execution\", aa_timings)\n",
    "audioanalyser_avg_teardown_times = get_avg_time(\"teardown\", aa_timings)\n",
    "print(\"Audio Analyser average setup time: \" + str(audioanalyser_avg_setup_times))\n",
    "print(\"Audio Analyser average execution time: \" + str(audioanalyser_avg_execution_times))\n",
    "print(\"Audio Analyser average teardown time: \" + str(audioanalyser_avg_teardown_times))\n",
    "print(\"Audio Analyser average total time: \" + str(audioanalyser_avg_setup_times + audioanalyser_avg_execution_times + audioanalyser_avg_teardown_times))"
   ],
   "metadata": {
    "collapsed": false,
    "ExecuteTime": {
     "end_time": "2023-09-25T16:29:53.736111400Z",
     "start_time": "2023-09-25T16:29:53.717228600Z"
    }
   }
  },
  {
   "cell_type": "code",
   "execution_count": 11,
   "outputs": [
    {
     "name": "stdout",
     "output_type": "stream",
     "text": [
      "Audio Analyser average setup time without parallelization: 322.35967911206757\n",
      "Audio Analyser average execution time without parallelization: 0.8632075603191669\n",
      "Audio Analyser average teardown time without parallelization: 0.06297703889700082\n",
      "Audio Analyser average total time without parallelization: 323.2858637112837\n"
     ]
    }
   ],
   "source": [
    "audioanalyser_avg_setup_times_sequential = get_avg_time(\"setup\", aa_timings, \"sequential\")\n",
    "audioanalyser_avg_execution_times_sequential = get_avg_time(\"execution\", aa_timings, \"sequential\")\n",
    "audioanalyser_avg_teardown_times_sequential = get_avg_time(\"teardown\", aa_timings, \"sequential\")\n",
    "print(\"Audio Analyser average setup time without parallelization: \" + str(audioanalyser_avg_setup_times_sequential))\n",
    "print(\"Audio Analyser average execution time without parallelization: \" + str(audioanalyser_avg_execution_times_sequential))\n",
    "print(\"Audio Analyser average teardown time without parallelization: \" + str(audioanalyser_avg_teardown_times_sequential))\n",
    "print(\"Audio Analyser average total time without parallelization: \" + str(audioanalyser_avg_setup_times_sequential + audioanalyser_avg_execution_times_sequential + audioanalyser_avg_teardown_times_sequential))"
   ],
   "metadata": {
    "collapsed": false,
    "ExecuteTime": {
     "end_time": "2023-09-25T16:29:53.736111400Z",
     "start_time": "2023-09-25T16:29:53.723864700Z"
    }
   }
  },
  {
   "cell_type": "code",
   "execution_count": 12,
   "outputs": [
    {
     "name": "stdout",
     "output_type": "stream",
     "text": [
      "Audio Analyser average setup time with parallelization: 321.8439790335569\n",
      "Audio Analyser average execution time with parallelization: 1.8628197366541082\n",
      "Audio Analyser average teardown time with parallelization: 0.08812228116122159\n",
      "Audio Analyser average total time with parallelization: 323.7949210513722\n"
     ]
    }
   ],
   "source": [
    "audioanalyser_avg_setup_times_parallel = get_avg_time(\"setup\", aa_timings, \"parallel\")\n",
    "audioanalyser_avg_execution_times_parallel = get_avg_time(\"execution\", aa_timings, \"parallel\")\n",
    "audioanalyser_avg_teardown_times_parallel = get_avg_time(\"teardown\", aa_timings, \"parallel\")\n",
    "print(\"Audio Analyser average setup time with parallelization: \" + str(audioanalyser_avg_setup_times_parallel))\n",
    "print(\"Audio Analyser average execution time with parallelization: \" + str(audioanalyser_avg_execution_times_parallel))\n",
    "print(\"Audio Analyser average teardown time with parallelization: \" + str(audioanalyser_avg_teardown_times_parallel))\n",
    "print(\"Audio Analyser average total time with parallelization: \" + str(audioanalyser_avg_setup_times_parallel + audioanalyser_avg_execution_times_parallel + audioanalyser_avg_teardown_times_parallel))"
   ],
   "metadata": {
    "collapsed": false,
    "ExecuteTime": {
     "end_time": "2023-09-25T16:29:53.752191400Z",
     "start_time": "2023-09-25T16:29:53.731888Z"
    }
   }
  },
  {
   "cell_type": "markdown",
   "source": [
    "### Graph of average times, sequential vs parallel, split by stage"
   ],
   "metadata": {
    "collapsed": false
   }
  },
  {
   "cell_type": "code",
   "execution_count": 13,
   "outputs": [
    {
     "data": {
      "text/plain": "<Figure size 640x480 with 1 Axes>",
      "image/png": "[encoded data removed]"
     },
     "metadata": {},
     "output_type": "display_data"
    }
   ],
   "source": [
    "modes = (\n",
    "    \"Sequential\",\n",
    "    \"Parallel\",\n",
    ")\n",
    "stages = {\n",
    "    \"setup\": np.array([audioanalyser_avg_setup_times_sequential, audioanalyser_avg_setup_times_parallel]),\n",
    "    \"execution\": np.array([audioanalyser_avg_execution_times_sequential, audioanalyser_avg_execution_times_parallel]),\n",
    "    \"teardown\": np.array([audioanalyser_avg_teardown_times_sequential, audioanalyser_avg_teardown_times_parallel]),\n",
    "}\n",
    "width = 0.5\n",
    "\n",
    "fig, ax = plt.subplots()\n",
    "bottom = np.zeros(2)\n",
    "\n",
    "for stage_name, stage_times in stages.items():\n",
    "    p = ax.bar(modes, stage_times, width, label=stage_name, bottom=bottom)\n",
    "    bottom += stage_times\n",
    "\n",
    "ax.set(ylabel=\"Time (s)\")\n",
    "\n",
    "ax.legend(loc=\"upper right\")\n",
    "\n",
    "plt.show()"
   ],
   "metadata": {
    "collapsed": false,
    "ExecuteTime": {
     "end_time": "2023-09-25T16:29:53.855065300Z",
     "start_time": "2023-09-25T16:29:53.743682300Z"
    }
   }
  },
  {
   "cell_type": "markdown",
   "source": [
    "Setup is near to 100% of the used time, no difference is visible between sequential and parallel execution."
   ],
   "metadata": {
    "collapsed": false
   }
  },
  {
   "cell_type": "markdown",
   "source": [
    "### Scatter plot of execution times, sequential vs parallel"
   ],
   "metadata": {
    "collapsed": false
   }
  },
  {
   "cell_type": "code",
   "execution_count": 14,
   "outputs": [
    {
     "data": {
      "text/plain": "<Figure size 640x480 with 1 Axes>",
      "image/png": "[encoded data removed]"
     },
     "metadata": {},
     "output_type": "display_data"
    }
   ],
   "source": [
    "fig, ax = plt.subplots()\n",
    "\n",
    "time_list_sequential = get_time_list(\"execution\", aa_timings, \"sequential\")\n",
    "executions_sequential = np.arange(1, len(time_list_sequential) + 1)\n",
    "ax.scatter(executions_sequential, time_list_sequential, c='lightblue', label=\"without parallelization\")\n",
    "\n",
    "time_list_parallel = get_time_list(\"execution\", aa_timings, \"parallel\")\n",
    "executions_parallel = np.arange(1, len(time_list_parallel) + 1) + max(executions_sequential)\n",
    "ax.scatter(executions_parallel, time_list_parallel, c='green', label=\"with parallelization\")\n",
    "\n",
    "ax.set(xticks=np.arange(1, max(executions_parallel) + 1, 1))\n",
    "ax.legend(loc=\"upper right\")\n",
    "\n",
    "ax.set(xlabel=\"# execution\", ylabel=\"Execution time (s)\")\n",
    "\n",
    "plt.show()"
   ],
   "metadata": {
    "collapsed": false,
    "ExecuteTime": {
     "end_time": "2023-09-25T16:29:54.030537900Z",
     "start_time": "2023-09-25T16:29:53.855065300Z"
    }
   }
  },
  {
   "cell_type": "markdown",
   "source": [
    "Parallelization slows down the execution of the audio analyser's conformance tests, this is because the spawn of the workers is probably occupying a lot of time relative to the execution time of the tests (~1.5 s)."
   ],
   "metadata": {
    "collapsed": false
   }
  },
  {
   "cell_type": "markdown",
   "source": [
    "# Conclusions"
   ],
   "metadata": {
    "collapsed": false
   }
  },
  {
   "cell_type": "markdown",
   "source": [
    "Parallelization does not bring a relevant speedup to the execution of the conformance tests, so it is better to disable it to leave other cores free to be used."
   ],
   "metadata": {
    "collapsed": false
   }
  },
  {
   "cell_type": "markdown",
   "source": [],
   "metadata": {
    "collapsed": false
   }
  }
 ],
 "metadata": {
  "kernelspec": {
   "display_name": "Python 3",
   "language": "python",
   "name": "python3"
  },
  "language_info": {
   "codemirror_mode": {
    "name": "ipython",
    "version": 2
   },
   "file_extension": ".py",
   "mimetype": "text/x-python",
   "name": "python",
   "nbconvert_exporter": "python",
   "pygments_lexer": "ipython2",
   "version": "2.7.6"
  }
 },
 "nbformat": 4,
 "nbformat_minor": 0
}
